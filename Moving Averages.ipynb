{
 "cells": [
  {
   "cell_type": "code",
   "execution_count": 1,
   "metadata": {
    "collapsed": true
   },
   "outputs": [],
   "source": [
    "import json\n",
    "import poloniex\n",
    "import utils\n",
    "import numpy as np \n",
    "import pandas as pd \n",
    "from collections import deque\n",
    "import matplotlib.pyplot as plt\n",
    "from SimulatorRig import SimRig"
   ]
  },
  {
   "cell_type": "code",
   "execution_count": 2,
   "metadata": {
    "collapsed": true
   },
   "outputs": [],
   "source": [
    "def moving_avg(crypto):\n",
    "    sma_len = len(crypto)/3\n",
    "    sma = deque(maxlen=sma_len)\n",
    "    sma_index = 0\n",
    "    lma_len = len(crypto)\n",
    "    lma = deque(maxlen=lma_len)\n",
    "    lma_index = 0\n",
    "    "
   ]
  },
  {
   "cell_type": "code",
   "execution_count": null,
   "metadata": {
    "collapsed": true
   },
   "outputs": [],
   "source": [
    "def moving_avg_alg(crypto):\n",
    "    dat = list(crypto\n",
    "    lma = np.mean(dat)\n",
    "    sma = np.mean(dat[len(dat)*2/3:])\n",
    "    return sma - lma"
   ]
  }
 ],
 "metadata": {
  "kernelspec": {
   "display_name": "Python 3",
   "language": "python",
   "name": "python3"
  },
  "language_info": {
   "codemirror_mode": {
    "name": "ipython",
    "version": 3
   },
   "file_extension": ".py",
   "mimetype": "text/x-python",
   "name": "python",
   "nbconvert_exporter": "python",
   "pygments_lexer": "ipython3",
   "version": "3.6.3"
  }
 },
 "nbformat": 4,
 "nbformat_minor": 2
}
